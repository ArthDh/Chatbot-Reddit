{
  "nbformat": 4,
  "nbformat_minor": 0,
  "metadata": {
    "colab": {
      "name": "chatbot_reddit.ipynb",
      "version": "0.3.2",
      "views": {},
      "default_view": {},
      "provenance": [],
      "collapsed_sections": []
    },
    "kernelspec": {
      "display_name": "Python 3",
      "language": "python",
      "name": "python3"
    },
    "accelerator": "GPU"
  },
  "cells": [
    {
      "metadata": {
        "id": "oAP57D6jx-Wo",
        "colab_type": "code",
        "colab": {
          "autoexec": {
            "startup": false,
            "wait_interval": 0
          },
          "base_uri": "https://localhost:8080/",
          "height": 105
        },
        "outputId": "5a829bb8-b534-4efb-d683-0aabe0ea70f0",
        "executionInfo": {
          "status": "ok",
          "timestamp": 1531903852587,
          "user_tz": -330,
          "elapsed": 15121,
          "user": {
            "displayName": "Arth Dharaskar",
            "photoUrl": "https://lh3.googleusercontent.com/a/default-user=s128",
            "userId": "112750200661093479151"
          }
        }
      },
      "cell_type": "code",
      "source": [
        "!apt-get install -y -qq software-properties-common python-software-properties module-init-tools\n",
        "!add-apt-repository -y ppa:alessandro-strada/ppa 2>&1 > /dev/null\n",
        "!apt-get update -qq 2>&1 > /dev/null\n",
        "!apt-get -y install -qq google-drive-ocamlfuse fuse\n",
        "from google.colab import auth\n",
        "auth.authenticate_user()\n",
        "from oauth2client.client import GoogleCredentials\n",
        "creds = GoogleCredentials.get_application_default()\n",
        "import getpass\n",
        "!google-drive-ocamlfuse -headless -id={creds.client_id} -secret={creds.client_secret} < /dev/null 2>&1 | grep URL\n",
        "vcode = getpass.getpass()\n",
        "!echo {vcode} | google-drive-ocamlfuse -headless -id={creds.client_id} -secret={creds.client_secret}"
      ],
      "execution_count": 4,
      "outputs": [
        {
          "output_type": "stream",
          "text": [
            "Please, open the following URL in a web browser: https://accounts.google.com/o/oauth2/auth?client_id=32555940559.apps.googleusercontent.com&redirect_uri=urn%3Aietf%3Awg%3Aoauth%3A2.0%3Aoob&scope=https%3A%2F%2Fwww.googleapis.com%2Fauth%2Fdrive&response_type=code&access_type=offline&approval_prompt=force\r\n",
            "··········\n",
            "Please, open the following URL in a web browser: https://accounts.google.com/o/oauth2/auth?client_id=32555940559.apps.googleusercontent.com&redirect_uri=urn%3Aietf%3Awg%3Aoauth%3A2.0%3Aoob&scope=https%3A%2F%2Fwww.googleapis.com%2Fauth%2Fdrive&response_type=code&access_type=offline&approval_prompt=force\n",
            "Please enter the verification code: Access token retrieved correctly.\n"
          ],
          "name": "stdout"
        }
      ]
    },
    {
      "metadata": {
        "id": "T8Nsg92RKL1m",
        "colab_type": "code",
        "colab": {
          "autoexec": {
            "startup": false,
            "wait_interval": 0
          }
        }
      },
      "cell_type": "code",
      "source": [
        "# !kill -9 -1 "
      ],
      "execution_count": 0,
      "outputs": []
    },
    {
      "metadata": {
        "id": "AYvUi_rpyRYI",
        "colab_type": "code",
        "colab": {
          "autoexec": {
            "startup": false,
            "wait_interval": 0
          },
          "base_uri": "https://localhost:8080/",
          "height": 68
        },
        "outputId": "aa4b77d9-ba68-4fe9-e2ec-71a246150cbc",
        "executionInfo": {
          "status": "ok",
          "timestamp": 1531903891370,
          "user_tz": -330,
          "elapsed": 4084,
          "user": {
            "displayName": "Arth Dharaskar",
            "photoUrl": "https://lh3.googleusercontent.com/a/default-user=s128",
            "userId": "112750200661093479151"
          }
        }
      },
      "cell_type": "code",
      "source": [
        "!mkdir -p drive\n",
        "!google-drive-ocamlfuse drive\n",
        "!free -g"
      ],
      "execution_count": 12,
      "outputs": [
        {
          "output_type": "stream",
          "text": [
            "              total        used        free      shared  buff/cache   available\r\n",
            "Mem:             12           0           1           0          10          11\r\n",
            "Swap:             0           0           0\r\n"
          ],
          "name": "stdout"
        }
      ]
    },
    {
      "metadata": {
        "id": "cNC33BGgyVN4",
        "colab_type": "code",
        "colab": {
          "autoexec": {
            "startup": false,
            "wait_interval": 0
          },
          "base_uri": "https://localhost:8080/",
          "height": 34
        },
        "outputId": "ab467436-ad7c-4c25-afed-c8639f542c04",
        "executionInfo": {
          "status": "ok",
          "timestamp": 1531903893780,
          "user_tz": -330,
          "elapsed": 1843,
          "user": {
            "displayName": "Arth Dharaskar",
            "photoUrl": "https://lh3.googleusercontent.com/a/default-user=s128",
            "userId": "112750200661093479151"
          }
        }
      },
      "cell_type": "code",
      "source": [
        "!ls"
      ],
      "execution_count": 13,
      "outputs": [
        {
          "output_type": "stream",
          "text": [
            "datalab  drive\r\n"
          ],
          "name": "stdout"
        }
      ]
    },
    {
      "metadata": {
        "id": "44Ma7a_PQOOD",
        "colab_type": "code",
        "colab": {
          "autoexec": {
            "startup": false,
            "wait_interval": 0
          }
        }
      },
      "cell_type": "code",
      "source": [
        "import numpy as np\n",
        "from keras.preprocessing.text import Tokenizer\n",
        "from keras.preprocessing.text import one_hot\n",
        "from keras.preprocessing.sequence import pad_sequences\n",
        "from scipy.ndimage.interpolation import shift\n",
        "from keras.models import load_model\n",
        "import keras\n",
        "import os\n",
        "import re\n",
        "import matplotlib.pyplot as plt\n",
        "%matplotlib inline"
      ],
      "execution_count": 0,
      "outputs": []
    },
    {
      "metadata": {
        "id": "X-Jr60EUQOOG",
        "colab_type": "code",
        "colab": {
          "autoexec": {
            "startup": false,
            "wait_interval": 0
          }
        }
      },
      "cell_type": "code",
      "source": [
        "nb_samples = 25000\n",
        "nb_words  = 1000"
      ],
      "execution_count": 0,
      "outputs": []
    },
    {
      "metadata": {
        "id": "_248aCPvQOOJ",
        "colab_type": "code",
        "colab": {
          "autoexec": {
            "startup": false,
            "wait_interval": 0
          }
        }
      },
      "cell_type": "code",
      "source": [
        "def return_text(file):\n",
        "    with open(file, 'r') as f:\n",
        "        lines = f.readlines()\n",
        "    return lines"
      ],
      "execution_count": 0,
      "outputs": []
    },
    {
      "metadata": {
        "id": "ioxsyuC0QOOM",
        "colab_type": "code",
        "colab": {
          "autoexec": {
            "startup": false,
            "wait_interval": 0
          }
        }
      },
      "cell_type": "code",
      "source": [
        "# test_from = return_text('/data/test.from')\n",
        "train_from = return_text('drive/projects/chatbot-reddit/data/train.from')\n",
        "# test_to = return_text('drive/projects/chatbot-reddit/data/test.to')\n",
        "train_to = return_text('drive/projects/chatbot-reddit/data/train.to')"
      ],
      "execution_count": 0,
      "outputs": []
    },
    {
      "metadata": {
        "id": "_OMBNJ3gx8G1",
        "colab_type": "code",
        "colab": {
          "autoexec": {
            "startup": false,
            "wait_interval": 0
          }
        }
      },
      "cell_type": "code",
      "source": [
        "def clean_sentences(sentences):\n",
        "    n_sentences=[]\n",
        "    temp = ''\n",
        "    for sentence in sentences:\n",
        "        if '\\n' in sentence:\n",
        "            loc = sentence.find('\\n')\n",
        "        temp = \"sos \"+sentence[:loc] + \" eos\"\n",
        "        n_sentences.append(temp)\n",
        "        temp=''\n",
        "    return n_sentences"
      ],
      "execution_count": 0,
      "outputs": []
    },
    {
      "metadata": {
        "id": "UBxKM_frx8G4",
        "colab_type": "code",
        "colab": {
          "autoexec": {
            "startup": false,
            "wait_interval": 0
          }
        }
      },
      "cell_type": "code",
      "source": [
        "cleaned_trainfrom = clean_sentences(train_from)\n",
        "cleaned_trainto = clean_sentences(train_to)"
      ],
      "execution_count": 0,
      "outputs": []
    },
    {
      "metadata": {
        "id": "pkMQIz1om_uy",
        "colab_type": "code",
        "colab": {
          "autoexec": {
            "startup": false,
            "wait_interval": 0
          },
          "base_uri": "https://localhost:8080/",
          "height": 54
        },
        "outputId": "b92711e3-c615-4fd0-edae-6e3bc208ce03",
        "executionInfo": {
          "status": "ok",
          "timestamp": 1531903911727,
          "user_tz": -330,
          "elapsed": 1005,
          "user": {
            "displayName": "Arth Dharaskar",
            "photoUrl": "https://lh3.googleusercontent.com/a/default-user=s128",
            "userId": "112750200661093479151"
          }
        }
      },
      "cell_type": "code",
      "source": [
        "cleaned_trainfrom[0]"
      ],
      "execution_count": 20,
      "outputs": [
        {
          "output_type": "execute_result",
          "data": {
            "text/plain": [
              "'sos As always Dilbert is so true. newlinechar  newlinechar Funny thing about Strategy is that you can have the right Strategy and still find yourself worse off. eos'"
            ]
          },
          "metadata": {
            "tags": []
          },
          "execution_count": 20
        }
      ]
    },
    {
      "metadata": {
        "id": "v6DWSFicQOOP",
        "colab_type": "code",
        "colab": {
          "autoexec": {
            "startup": false,
            "wait_interval": 0
          }
        }
      },
      "cell_type": "code",
      "source": [
        "tokenizer = Tokenizer(num_words = nb_words,lower=True)\n",
        "tokenizer.fit_on_texts(cleaned_trainfrom + cleaned_trainto)"
      ],
      "execution_count": 0,
      "outputs": []
    },
    {
      "metadata": {
        "id": "STfEY2CmtMB0",
        "colab_type": "code",
        "colab": {
          "autoexec": {
            "startup": false,
            "wait_interval": 0
          },
          "base_uri": "https://localhost:8080/",
          "height": 34
        },
        "outputId": "a4fb0ff2-ed2c-4dfb-8de7-2840b4f85e7d",
        "executionInfo": {
          "status": "ok",
          "timestamp": 1531903917927,
          "user_tz": -330,
          "elapsed": 1102,
          "user": {
            "displayName": "Arth Dharaskar",
            "photoUrl": "https://lh3.googleusercontent.com/a/default-user=s128",
            "userId": "112750200661093479151"
          }
        }
      },
      "cell_type": "code",
      "source": [
        "len(tokenizer.word_index)"
      ],
      "execution_count": 22,
      "outputs": [
        {
          "output_type": "execute_result",
          "data": {
            "text/plain": [
              "48311"
            ]
          },
          "metadata": {
            "tags": []
          },
          "execution_count": 22
        }
      ]
    },
    {
      "metadata": {
        "id": "tYXUiFK4QOOS",
        "colab_type": "code",
        "colab": {
          "autoexec": {
            "startup": false,
            "wait_interval": 0
          }
        }
      },
      "cell_type": "code",
      "source": [
        "train_from_sequences = tokenizer.texts_to_sequences(cleaned_trainfrom)\n",
        "train_to_sequences = tokenizer.texts_to_sequences(cleaned_trainto)"
      ],
      "execution_count": 0,
      "outputs": []
    },
    {
      "metadata": {
        "id": "hfZBW2wZQOOU",
        "colab_type": "code",
        "colab": {
          "autoexec": {
            "startup": false,
            "wait_interval": 0
          }
        }
      },
      "cell_type": "code",
      "source": [
        "# test_to_sequences = tokenizer.texts_to_sequences(test_to)\n",
        "# test_from_sequences = tokenizer.texts_to_sequences(test_from)"
      ],
      "execution_count": 0,
      "outputs": []
    },
    {
      "metadata": {
        "id": "lxsF4W9vQOOX",
        "colab_type": "code",
        "colab": {
          "autoexec": {
            "startup": false,
            "wait_interval": 0
          }
        }
      },
      "cell_type": "code",
      "source": [
        "max_seq_train_from = max([len(seq) for seq in train_from_sequences])\n",
        "max_seq_train_to = max([len(seq) for seq in train_to_sequences])"
      ],
      "execution_count": 0,
      "outputs": []
    },
    {
      "metadata": {
        "id": "1pPmHltHQOOa",
        "colab_type": "code",
        "colab": {
          "autoexec": {
            "startup": false,
            "wait_interval": 0
          },
          "base_uri": "https://localhost:8080/",
          "height": 34
        },
        "outputId": "29ac673c-7b23-432a-98dc-f0b4ecf83dd3",
        "executionInfo": {
          "status": "ok",
          "timestamp": 1531903924859,
          "user_tz": -330,
          "elapsed": 1156,
          "user": {
            "displayName": "Arth Dharaskar",
            "photoUrl": "https://lh3.googleusercontent.com/a/default-user=s128",
            "userId": "112750200661093479151"
          }
        }
      },
      "cell_type": "code",
      "source": [
        "max_seq_train_from,max_seq_train_to"
      ],
      "execution_count": 26,
      "outputs": [
        {
          "output_type": "execute_result",
          "data": {
            "text/plain": [
              "(87, 77)"
            ]
          },
          "metadata": {
            "tags": []
          },
          "execution_count": 26
        }
      ]
    },
    {
      "metadata": {
        "id": "OlFPYWhjQOOf",
        "colab_type": "code",
        "colab": {
          "autoexec": {
            "startup": false,
            "wait_interval": 0
          }
        }
      },
      "cell_type": "code",
      "source": [
        "data_trainfrom = pad_sequences(train_from_sequences, maxlen=max_seq_train_from)\n",
        "data_trainto = pad_sequences(train_to_sequences, maxlen=max_seq_train_to)"
      ],
      "execution_count": 0,
      "outputs": []
    },
    {
      "metadata": {
        "id": "apfAb5qUQOOj",
        "colab_type": "code",
        "colab": {
          "autoexec": {
            "startup": false,
            "wait_interval": 0
          }
        }
      },
      "cell_type": "code",
      "source": [
        "# data_testfrom = pad_sequences(train_from_sequences, maxlen=max_seq_train_from)\n",
        "# data_testto = pad_sequences(train_to_sequences, maxlen=max_seq_train_to)"
      ],
      "execution_count": 0,
      "outputs": []
    },
    {
      "metadata": {
        "id": "x8w6qyQ1QOOm",
        "colab_type": "code",
        "colab": {
          "autoexec": {
            "startup": false,
            "wait_interval": 0
          },
          "base_uri": "https://localhost:8080/",
          "height": 136
        },
        "outputId": "d37f976e-b90e-404d-a131-236722f3edc3",
        "executionInfo": {
          "status": "ok",
          "timestamp": 1531903929786,
          "user_tz": -330,
          "elapsed": 1228,
          "user": {
            "displayName": "Arth Dharaskar",
            "photoUrl": "https://lh3.googleusercontent.com/a/default-user=s128",
            "userId": "112750200661093479151"
          }
        }
      },
      "cell_type": "code",
      "source": [
        "data_trainfrom[0]"
      ],
      "execution_count": 29,
      "outputs": [
        {
          "output_type": "execute_result",
          "data": {
            "text/plain": [
              "array([  0,   0,   0,   0,   0,   0,   0,   0,   0,   0,   0,   0,   0,\n",
              "         0,   0,   0,   0,   0,   0,   0,   0,   0,   0,   0,   0,   0,\n",
              "         0,   0,   0,   0,   0,   0,   0,   0,   0,   0,   0,   0,   0,\n",
              "         0,   0,   0,   0,   0,   0,   0,   0,   0,   0,   0,   0,   0,\n",
              "         0,   0,   0,   0,   0,   0,   0,   0,   0,   0,   1,  31, 179,\n",
              "        13,  36, 214,   4,   4, 285, 132,  48,  13,  12,  10,  49,  20,\n",
              "         3,  92,   9, 101, 192, 430, 515, 129,   2], dtype=int32)"
            ]
          },
          "metadata": {
            "tags": []
          },
          "execution_count": 29
        }
      ]
    },
    {
      "metadata": {
        "id": "n-oxh0vZQOO5",
        "colab_type": "code",
        "colab": {
          "autoexec": {
            "startup": false,
            "wait_interval": 0
          }
        }
      },
      "cell_type": "code",
      "source": [
        "# data_trainfrom = data_trainfrom[:nb_samples]\n",
        "# data_trainto = data_trainto [:nb_samples]"
      ],
      "execution_count": 0,
      "outputs": []
    },
    {
      "metadata": {
        "id": "cnaI1PbMLw9X",
        "colab_type": "code",
        "colab": {
          "autoexec": {
            "startup": false,
            "wait_interval": 0
          },
          "base_uri": "https://localhost:8080/",
          "height": 34
        },
        "outputId": "c55f56d9-9464-4541-8cf0-49b6308df6ec",
        "executionInfo": {
          "status": "ok",
          "timestamp": 1531903936394,
          "user_tz": -330,
          "elapsed": 1137,
          "user": {
            "displayName": "Arth Dharaskar",
            "photoUrl": "https://lh3.googleusercontent.com/a/default-user=s128",
            "userId": "112750200661093479151"
          }
        }
      },
      "cell_type": "code",
      "source": [
        "data_trainfrom.shape,data_trainto.shape"
      ],
      "execution_count": 31,
      "outputs": [
        {
          "output_type": "execute_result",
          "data": {
            "text/plain": [
              "((28778, 87), (28778, 77))"
            ]
          },
          "metadata": {
            "tags": []
          },
          "execution_count": 31
        }
      ]
    },
    {
      "metadata": {
        "id": "y2WSZQnVOQ1j",
        "colab_type": "code",
        "colab": {
          "autoexec": {
            "startup": false,
            "wait_interval": 0
          }
        }
      },
      "cell_type": "code",
      "source": [
        "# def shift2(arr,num):\n",
        "#     arr=np.roll(arr,num)\n",
        "#     if num<0:\n",
        "#          np.put(arr,range(len(arr)+num,len(arr)),0)\n",
        "#     elif num > 0:\n",
        "#          np.put(arr,range(num),0)\n",
        "#     return arr"
      ],
      "execution_count": 0,
      "outputs": []
    },
    {
      "metadata": {
        "id": "Of_vZ-P7OTDw",
        "colab_type": "code",
        "colab": {
          "autoexec": {
            "startup": false,
            "wait_interval": 0
          }
        }
      },
      "cell_type": "code",
      "source": [
        "# target_data = shift2(data_trainto, -1)\n",
        "# target_data = target_data[:nb_samples]"
      ],
      "execution_count": 0,
      "outputs": []
    },
    {
      "metadata": {
        "id": "yyRBm3MaZIjd",
        "colab_type": "code",
        "colab": {
          "autoexec": {
            "startup": false,
            "wait_interval": 0
          }
        }
      },
      "cell_type": "code",
      "source": [
        "new_tokens = {}\n",
        "for token, val in  tokenizer.word_index.items():\n",
        "  if(val<nb_words):\n",
        "    if re.match('^[a-zA-Z0-9]',token ):\n",
        "        new_tokens[token] = val\n",
        "  else:\n",
        "    break\n",
        "num_tokens = len(new_tokens)"
      ],
      "execution_count": 0,
      "outputs": []
    },
    {
      "metadata": {
        "id": "A2qQPSl0QOPC",
        "colab_type": "code",
        "colab": {
          "autoexec": {
            "startup": false,
            "wait_interval": 0
          }
        }
      },
      "cell_type": "code",
      "source": [
        "index2word = {}\n",
        "for word,i in new_tokens.items():\n",
        "    index2word[i] = word"
      ],
      "execution_count": 0,
      "outputs": []
    },
    {
      "metadata": {
        "id": "yDXt3LPUOmuR",
        "colab_type": "code",
        "colab": {
          "autoexec": {
            "startup": false,
            "wait_interval": 0
          },
          "base_uri": "https://localhost:8080/",
          "height": 34
        },
        "outputId": "6c4aac92-3f5c-4f00-ab8e-041eae3ed228",
        "executionInfo": {
          "status": "ok",
          "timestamp": 1531903959067,
          "user_tz": -330,
          "elapsed": 1182,
          "user": {
            "displayName": "Arth Dharaskar",
            "photoUrl": "https://lh3.googleusercontent.com/a/default-user=s128",
            "userId": "112750200661093479151"
          }
        }
      },
      "cell_type": "code",
      "source": [
        "index2word[998]"
      ],
      "execution_count": 36,
      "outputs": [
        {
          "output_type": "execute_result",
          "data": {
            "text/plain": [
              "'million'"
            ]
          },
          "metadata": {
            "tags": []
          },
          "execution_count": 36
        }
      ]
    },
    {
      "metadata": {
        "id": "yb8wdo3DSKCR",
        "colab_type": "code",
        "colab": {
          "autoexec": {
            "startup": false,
            "wait_interval": 0
          },
          "base_uri": "https://localhost:8080/",
          "height": 34
        },
        "outputId": "88be1162-ac0f-4572-d43f-6ba39ca632c7",
        "executionInfo": {
          "status": "ok",
          "timestamp": 1531903962863,
          "user_tz": -330,
          "elapsed": 997,
          "user": {
            "displayName": "Arth Dharaskar",
            "photoUrl": "https://lh3.googleusercontent.com/a/default-user=s128",
            "userId": "112750200661093479151"
          }
        }
      },
      "cell_type": "code",
      "source": [
        "new_tokens['eos']"
      ],
      "execution_count": 37,
      "outputs": [
        {
          "output_type": "execute_result",
          "data": {
            "text/plain": [
              "2"
            ]
          },
          "metadata": {
            "tags": []
          },
          "execution_count": 37
        }
      ]
    },
    {
      "metadata": {
        "id": "-0a0zFVTQVH7",
        "colab_type": "code",
        "colab": {
          "autoexec": {
            "startup": false,
            "wait_interval": 0
          }
        }
      },
      "cell_type": "code",
      "source": [
        "# X = np.zeros((nb_samples,max_seq_train_from, num_tokens+1), dtype='float32')\n",
        "# X_context = np.zeros((nb_samples,max_seq_train_to, num_tokens+1), dtype='float32')\n",
        "nb_samples = data_trainfrom.shape[0]\n",
        "Y = np.zeros((nb_samples,max_seq_train_to, nb_words), dtype='float32')\n",
        "\n",
        "\n",
        "for i, target_text in enumerate(cleaned_trainto):\n",
        "  for t, word in enumerate(target_text.split(' ')):\n",
        "    if word in new_tokens and i<nb_samples and new_tokens[word]< nb_words:\n",
        "      if t > 0:          \n",
        "        # decoder_target_data will be ahead by one timestep\n",
        "        # and will not include the start character.\n",
        "        Y[i, t - 1, new_tokens[word]] = 1."
      ],
      "execution_count": 0,
      "outputs": []
    },
    {
      "metadata": {
        "id": "ZU1Bebh8weUr",
        "colab_type": "code",
        "colab": {
          "autoexec": {
            "startup": false,
            "wait_interval": 0
          },
          "base_uri": "https://localhost:8080/",
          "height": 34
        },
        "outputId": "ccea183b-0c26-4e81-8b22-e26352edc5b0",
        "executionInfo": {
          "status": "ok",
          "timestamp": 1531903973166,
          "user_tz": -330,
          "elapsed": 1156,
          "user": {
            "displayName": "Arth Dharaskar",
            "photoUrl": "https://lh3.googleusercontent.com/a/default-user=s128",
            "userId": "112750200661093479151"
          }
        }
      },
      "cell_type": "code",
      "source": [
        "Y.shape"
      ],
      "execution_count": 39,
      "outputs": [
        {
          "output_type": "execute_result",
          "data": {
            "text/plain": [
              "(28778, 77, 1000)"
            ]
          },
          "metadata": {
            "tags": []
          },
          "execution_count": 39
        }
      ]
    },
    {
      "metadata": {
        "id": "lkN2e-8sgYIR",
        "colab_type": "code",
        "colab": {
          "autoexec": {
            "startup": false,
            "wait_interval": 0
          }
        }
      },
      "cell_type": "code",
      "source": [
        "path = 'drive/projects/chatbot-reddit'"
      ],
      "execution_count": 0,
      "outputs": []
    },
    {
      "metadata": {
        "id": "3p6zqAWD_ZYn",
        "colab_type": "code",
        "colab": {
          "autoexec": {
            "startup": false,
            "wait_interval": 0
          }
        }
      },
      "cell_type": "code",
      "source": [
        "from keras.layers import Input, Embedding, LSTM, Dense \n",
        "from keras.models import Model\n",
        "from keras import optimizers"
      ],
      "execution_count": 0,
      "outputs": []
    },
    {
      "metadata": {
        "id": "farGERC6GMgF",
        "colab_type": "code",
        "colab": {
          "autoexec": {
            "startup": false,
            "wait_interval": 0
          }
        }
      },
      "cell_type": "code",
      "source": [
        "latent_dim = 256\n",
        "batch_size = 128\n",
        "epochs = 50"
      ],
      "execution_count": 0,
      "outputs": []
    },
    {
      "metadata": {
        "id": "s6_pkXk0GLQk",
        "colab_type": "code",
        "colab": {
          "autoexec": {
            "startup": false,
            "wait_interval": 0
          }
        }
      },
      "cell_type": "code",
      "source": [
        "# Define an input sequence and process it.\n",
        "encoder_inputs = Input(shape=(None,))\n",
        "x = Embedding(nb_words, latent_dim)(encoder_inputs)\n",
        "encoder, state_h, state_c = LSTM(latent_dim,\n",
        "                           return_state=True)(x)\n",
        "encoder_states = [state_h, state_c]"
      ],
      "execution_count": 0,
      "outputs": []
    },
    {
      "metadata": {
        "id": "CQbMgaf_GO3Z",
        "colab_type": "code",
        "colab": {
          "autoexec": {
            "startup": false,
            "wait_interval": 0
          }
        }
      },
      "cell_type": "code",
      "source": [
        "# Set up the decoder, using `encoder_states` as initial state.\n",
        "decoder_inputs = Input(shape=(None,))\n",
        "y = Embedding(nb_words, latent_dim)(decoder_inputs)\n",
        "decoder_lstm = LSTM(latent_dim, return_sequences=True,return_state=True)\n",
        "d_out, _, _ = decoder_lstm(y, initial_state=encoder_states)\n",
        "decoder_dense = Dense(nb_words, activation='softmax')\n",
        "decoder_outputs = decoder_dense(d_out)"
      ],
      "execution_count": 0,
      "outputs": []
    },
    {
      "metadata": {
        "id": "hF9mIWgsGT9a",
        "colab_type": "code",
        "colab": {
          "autoexec": {
            "startup": false,
            "wait_interval": 0
          }
        }
      },
      "cell_type": "code",
      "source": [
        "# Define the model that will turn\n",
        "# `encoder_input_data` & `decoder_input_data` into `decoder_target_data`\n",
        "model = Model([encoder_inputs, decoder_inputs], decoder_outputs)\n",
        "\n",
        "# Compile & run training\n",
        "model.compile(optimizer='rmsprop', loss='categorical_crossentropy')"
      ],
      "execution_count": 0,
      "outputs": []
    },
    {
      "metadata": {
        "id": "GAGCTl7GGbnj",
        "colab_type": "code",
        "colab": {
          "autoexec": {
            "startup": false,
            "wait_interval": 0
          }
        }
      },
      "cell_type": "code",
      "source": [
        "callbacks_list = [\n",
        "        keras.callbacks.ReduceLROnPlateau(\n",
        "            monitor='loss',\n",
        "            factor=0.1,\n",
        "            patience=10,\n",
        "        ),\n",
        "        keras.callbacks.ModelCheckpoint(\n",
        "            filepath=os.path.join(path,'models/chatbotC.h5'),\n",
        "            monitor='loss',\n",
        "            save_best_only=True,\n",
        "        ),\n",
        "]"
      ],
      "execution_count": 0,
      "outputs": []
    },
    {
      "metadata": {
        "id": "Zl0iAhMXgKx1",
        "colab_type": "code",
        "colab": {
          "autoexec": {
            "startup": false,
            "wait_interval": 0
          },
          "base_uri": "https://localhost:8080/",
          "height": 1788
        },
        "outputId": "88964cb8-a409-48cc-831b-7f48b7ff0a89",
        "executionInfo": {
          "status": "ok",
          "timestamp": 1531909789180,
          "user_tz": -330,
          "elapsed": 4527463,
          "user": {
            "displayName": "Arth Dharaskar",
            "photoUrl": "https://lh3.googleusercontent.com/a/default-user=s128",
            "userId": "112750200661093479151"
          }
        }
      },
      "cell_type": "code",
      "source": [
        "# Note that `decoder_target_data` needs to be one-hot encoded,\n",
        "# rather than sequences of integers like `decoder_input_data`!\n",
        "model.load_weights(os.path.join(path,'models/chatbotC.h5'))\n",
        "history = model.fit([data_trainfrom, data_trainto], Y,\n",
        "          batch_size=batch_size,\n",
        "          epochs=epochs,\n",
        "          validation_split=0.1,\n",
        "          callbacks = callbacks_list)"
      ],
      "execution_count": 74,
      "outputs": [
        {
          "output_type": "stream",
          "text": [
            "Train on 25900 samples, validate on 2878 samples\n",
            "Epoch 1/50\n",
            "25900/25900 [==============================] - 87s 3ms/step - loss: 0.6203 - val_loss: 0.6230\n",
            "Epoch 2/50\n",
            "25900/25900 [==============================] - 87s 3ms/step - loss: 0.6193 - val_loss: 0.6239\n"
          ],
          "name": "stdout"
        },
        {
          "output_type": "stream",
          "text": [
            "/usr/local/lib/python3.6/dist-packages/keras/engine/topology.py:2379: UserWarning: Layer lstm_2 was passed non-serializable keyword arguments: {'initial_state': [<tf.Tensor 'lstm_1/while/Exit_2:0' shape=(?, 256) dtype=float32>, <tf.Tensor 'lstm_1/while/Exit_3:0' shape=(?, 256) dtype=float32>]}. They will not be included in the serialized model (and thus will be missing at deserialization time).\n",
            "  str(node.arguments) + '. They will not be included '\n"
          ],
          "name": "stderr"
        },
        {
          "output_type": "stream",
          "text": [
            "Epoch 3/50\n",
            "25900/25900 [==============================] - 87s 3ms/step - loss: 0.6183 - val_loss: 0.6237\n",
            "Epoch 4/50\n",
            "25900/25900 [==============================] - 87s 3ms/step - loss: 0.6172 - val_loss: 0.6236\n",
            "Epoch 5/50\n",
            "19840/25900 [=====================>........] - ETA: 19s - loss: 0.6162"
          ],
          "name": "stdout"
        },
        {
          "output_type": "stream",
          "text": [
            "25900/25900 [==============================] - 87s 3ms/step - loss: 0.6161 - val_loss: 0.6248\n",
            "Epoch 6/50\n",
            "25900/25900 [==============================] - 87s 3ms/step - loss: 0.6147 - val_loss: 0.6253\n",
            "Epoch 7/50\n",
            "25900/25900 [==============================] - 87s 3ms/step - loss: 0.6132 - val_loss: 0.6260\n",
            "Epoch 8/50\n",
            " 1024/25900 [>.............................] - ETA: 1:24 - loss: 0.5862"
          ],
          "name": "stdout"
        },
        {
          "output_type": "stream",
          "text": [
            "25900/25900 [==============================] - 87s 3ms/step - loss: 0.6115 - val_loss: 0.6264\n",
            "Epoch 9/50\n",
            "25900/25900 [==============================] - 87s 3ms/step - loss: 0.6096 - val_loss: 0.6272\n",
            "Epoch 10/50\n",
            "22784/25900 [=========================>....] - ETA: 10s - loss: 0.6084"
          ],
          "name": "stdout"
        },
        {
          "output_type": "stream",
          "text": [
            "25900/25900 [==============================] - 87s 3ms/step - loss: 0.6074 - val_loss: 0.6285\n",
            "Epoch 11/50\n",
            "25900/25900 [==============================] - 87s 3ms/step - loss: 0.6050 - val_loss: 0.6296\n",
            "Epoch 12/50\n",
            "25900/25900 [==============================] - 87s 3ms/step - loss: 0.6026 - val_loss: 0.6306\n",
            "Epoch 13/50\n",
            " 1408/25900 [>.............................] - ETA: 1:21 - loss: 0.5748"
          ],
          "name": "stdout"
        },
        {
          "output_type": "stream",
          "text": [
            "25900/25900 [==============================] - 87s 3ms/step - loss: 0.5998 - val_loss: 0.6320\n",
            "Epoch 14/50\n",
            "25900/25900 [==============================] - 86s 3ms/step - loss: 0.5968 - val_loss: 0.6337\n",
            "Epoch 15/50\n",
            "22784/25900 [=========================>....] - ETA: 10s - loss: 0.5940"
          ],
          "name": "stdout"
        },
        {
          "output_type": "stream",
          "text": [
            "25900/25900 [==============================] - 87s 3ms/step - loss: 0.5936 - val_loss: 0.6359\n",
            "Epoch 16/50\n",
            "25900/25900 [==============================] - 87s 3ms/step - loss: 0.5903 - val_loss: 0.6380\n",
            "Epoch 17/50\n",
            "25900/25900 [==============================] - 87s 3ms/step - loss: 0.5868 - val_loss: 0.6403\n",
            "Epoch 18/50\n",
            " 1408/25900 [>.............................] - ETA: 1:22 - loss: 0.5775"
          ],
          "name": "stdout"
        },
        {
          "output_type": "stream",
          "text": [
            "25900/25900 [==============================] - 87s 3ms/step - loss: 0.5832 - val_loss: 0.6428\n",
            "Epoch 19/50\n",
            "25900/25900 [==============================] - 87s 3ms/step - loss: 0.5795 - val_loss: 0.6433\n",
            "Epoch 20/50\n",
            "22784/25900 [=========================>....] - ETA: 10s - loss: 0.5752"
          ],
          "name": "stdout"
        },
        {
          "output_type": "stream",
          "text": [
            "25900/25900 [==============================] - 87s 3ms/step - loss: 0.5756 - val_loss: 0.6458\n",
            "Epoch 21/50\n",
            "25900/25900 [==============================] - 87s 3ms/step - loss: 0.5716 - val_loss: 0.6484\n",
            "Epoch 22/50\n",
            "25900/25900 [==============================] - 87s 3ms/step - loss: 0.5678 - val_loss: 0.6518\n",
            "Epoch 23/50\n",
            " 1408/25900 [>.............................] - ETA: 1:22 - loss: 0.5730"
          ],
          "name": "stdout"
        },
        {
          "output_type": "stream",
          "text": [
            "25900/25900 [==============================] - 87s 3ms/step - loss: 0.5638 - val_loss: 0.6540\n",
            "Epoch 24/50\n",
            "25900/25900 [==============================] - 87s 3ms/step - loss: 0.5598 - val_loss: 0.6574\n",
            "Epoch 25/50\n",
            "22784/25900 [=========================>....] - ETA: 10s - loss: 0.5542"
          ],
          "name": "stdout"
        },
        {
          "output_type": "stream",
          "text": [
            "25900/25900 [==============================] - 87s 3ms/step - loss: 0.5558 - val_loss: 0.6597\n",
            "Epoch 26/50\n",
            "25900/25900 [==============================] - 87s 3ms/step - loss: 0.5518 - val_loss: 0.6630\n",
            "Epoch 27/50\n",
            "25900/25900 [==============================] - 87s 3ms/step - loss: 0.5478 - val_loss: 0.6659\n",
            "Epoch 28/50\n",
            " 1408/25900 [>.............................] - ETA: 1:22 - loss: 0.5376"
          ],
          "name": "stdout"
        },
        {
          "output_type": "stream",
          "text": [
            "25900/25900 [==============================] - 87s 3ms/step - loss: 0.5436 - val_loss: 0.6694\n",
            "Epoch 29/50\n",
            "25900/25900 [==============================] - 87s 3ms/step - loss: 0.5398 - val_loss: 0.6705\n",
            "Epoch 30/50\n",
            "22784/25900 [=========================>....] - ETA: 10s - loss: 0.5327"
          ],
          "name": "stdout"
        },
        {
          "output_type": "stream",
          "text": [
            "25900/25900 [==============================] - 87s 3ms/step - loss: 0.5359 - val_loss: 0.6762\n",
            "Epoch 31/50\n",
            "25900/25900 [==============================] - 87s 3ms/step - loss: 0.5319 - val_loss: 0.6782\n",
            "Epoch 32/50\n",
            "25900/25900 [==============================] - 87s 3ms/step - loss: 0.5281 - val_loss: 0.6842\n",
            "Epoch 33/50\n",
            " 1408/25900 [>.............................] - ETA: 1:22 - loss: 0.5240"
          ],
          "name": "stdout"
        },
        {
          "output_type": "stream",
          "text": [
            "25900/25900 [==============================] - 87s 3ms/step - loss: 0.5243 - val_loss: 0.6857\n",
            "Epoch 34/50\n",
            "25900/25900 [==============================] - 87s 3ms/step - loss: 0.5205 - val_loss: 0.6886\n",
            "Epoch 35/50\n",
            "22784/25900 [=========================>....] - ETA: 10s - loss: 0.5153"
          ],
          "name": "stdout"
        },
        {
          "output_type": "stream",
          "text": [
            "25900/25900 [==============================] - 87s 3ms/step - loss: 0.5169 - val_loss: 0.6916\n",
            "Epoch 36/50\n",
            "25900/25900 [==============================] - 87s 3ms/step - loss: 0.5132 - val_loss: 0.6944\n",
            "Epoch 37/50\n",
            "25900/25900 [==============================] - 87s 3ms/step - loss: 0.5096 - val_loss: 0.6988\n",
            "Epoch 38/50\n",
            " 1408/25900 [>.............................] - ETA: 1:21 - loss: 0.5114"
          ],
          "name": "stdout"
        },
        {
          "output_type": "stream",
          "text": [
            "25900/25900 [==============================] - 87s 3ms/step - loss: 0.5061 - val_loss: 0.7024\n",
            "Epoch 39/50\n",
            "25900/25900 [==============================] - 87s 3ms/step - loss: 0.5026 - val_loss: 0.7078\n",
            "Epoch 40/50\n",
            "22784/25900 [=========================>....] - ETA: 10s - loss: 0.4989"
          ],
          "name": "stdout"
        },
        {
          "output_type": "stream",
          "text": [
            "25900/25900 [==============================] - 87s 3ms/step - loss: 0.4994 - val_loss: 0.7103\n",
            "Epoch 41/50\n",
            "25900/25900 [==============================] - 87s 3ms/step - loss: 0.4960 - val_loss: 0.7156\n",
            "Epoch 42/50\n",
            "25900/25900 [==============================] - 87s 3ms/step - loss: 0.4925 - val_loss: 0.7168\n",
            "Epoch 43/50\n",
            " 1408/25900 [>.............................] - ETA: 1:22 - loss: 0.4714"
          ],
          "name": "stdout"
        },
        {
          "output_type": "stream",
          "text": [
            "25900/25900 [==============================] - 87s 3ms/step - loss: 0.4893 - val_loss: 0.7222\n",
            "Epoch 44/50\n",
            "25900/25900 [==============================] - 87s 3ms/step - loss: 0.4861 - val_loss: 0.7224\n",
            "Epoch 45/50\n",
            "22784/25900 [=========================>....] - ETA: 10s - loss: 0.4808"
          ],
          "name": "stdout"
        },
        {
          "output_type": "stream",
          "text": [
            "25900/25900 [==============================] - 87s 3ms/step - loss: 0.4831 - val_loss: 0.7252\n",
            "Epoch 46/50\n",
            "25900/25900 [==============================] - 85s 3ms/step - loss: 0.4799 - val_loss: 0.7316\n",
            "Epoch 47/50\n",
            "25900/25900 [==============================] - 86s 3ms/step - loss: 0.4770 - val_loss: 0.7333\n",
            "Epoch 48/50\n",
            " 1408/25900 [>.............................] - ETA: 1:20 - loss: 0.4808"
          ],
          "name": "stdout"
        },
        {
          "output_type": "stream",
          "text": [
            "25900/25900 [==============================] - 85s 3ms/step - loss: 0.4741 - val_loss: 0.7374\n",
            "Epoch 49/50\n",
            "25900/25900 [==============================] - 85s 3ms/step - loss: 0.4709 - val_loss: 0.7427\n",
            "Epoch 50/50\n",
            "22784/25900 [=========================>....] - ETA: 9s - loss: 0.4678 "
          ],
          "name": "stdout"
        },
        {
          "output_type": "stream",
          "text": [
            "25900/25900 [==============================] - 85s 3ms/step - loss: 0.4682 - val_loss: 0.7452\n"
          ],
          "name": "stdout"
        }
      ]
    },
    {
      "metadata": {
        "id": "GOZKV1cGIOb_",
        "colab_type": "code",
        "colab": {
          "autoexec": {
            "startup": false,
            "wait_interval": 0
          }
        }
      },
      "cell_type": "code",
      "source": [
        "def sample(preds, temperature= 0.2):\n",
        "    preds = np.reshape(preds,preds.shape[-1])\n",
        "    preds = np.asarray(preds).astype('float64')\n",
        "    preds = np.log(preds)/ temperature\n",
        "    exp_preds = np.exp(preds)\n",
        "    preds = exp_preds / np.sum(exp_preds)\n",
        "    probas = np.random.multinomial(1,preds, 1)\n",
        "    return np.argmax(probas)"
      ],
      "execution_count": 0,
      "outputs": []
    },
    {
      "metadata": {
        "id": "7G6U4DSjbH8x",
        "colab_type": "code",
        "colab": {
          "autoexec": {
            "startup": false,
            "wait_interval": 0
          },
          "base_uri": "https://localhost:8080/",
          "height": 629
        },
        "outputId": "77116e73-e8ab-49b3-ba33-71c2f9f04747",
        "executionInfo": {
          "status": "ok",
          "timestamp": 1531909821726,
          "user_tz": -330,
          "elapsed": 1133,
          "user": {
            "displayName": "Arth Dharaskar",
            "photoUrl": "https://lh3.googleusercontent.com/a/default-user=s128",
            "userId": "112750200661093479151"
          }
        }
      },
      "cell_type": "code",
      "source": [
        "# Define sampling models\n",
        "encoder_model = Model(encoder_inputs, encoder_states)\n",
        "print(encoder_model.summary())\n",
        "                    \n",
        "decoder_state_input_h = Input(shape=(latent_dim,))\n",
        "decoder_state_input_c = Input(shape=(latent_dim,))\n",
        "\n",
        "decoder_inputs = Input(shape=(None,))\n",
        "y = Embedding(nb_words, latent_dim)(decoder_inputs)\n",
        "decoder_states_inputs = [decoder_state_input_h, decoder_state_input_c]\n",
        "decoder_outputs, state_h, state_c = decoder_lstm(y, initial_state=decoder_states_inputs)\n",
        "decoder_states  = [state_h, state_c]\n",
        "\n",
        "decoder_outputs = decoder_dense(decoder_outputs)\n",
        "decoder_model   = Model([decoder_inputs] + decoder_states_inputs, [decoder_outputs] + decoder_states)\n",
        "print(decoder_model.summary())\n"
      ],
      "execution_count": 76,
      "outputs": [
        {
          "output_type": "stream",
          "text": [
            "_________________________________________________________________\n",
            "Layer (type)                 Output Shape              Param #   \n",
            "=================================================================\n",
            "input_1 (InputLayer)         (None, None)              0         \n",
            "_________________________________________________________________\n",
            "embedding_1 (Embedding)      (None, None, 256)         256000    \n",
            "_________________________________________________________________\n",
            "lstm_1 (LSTM)                [(None, 256), (None, 256) 525312    \n",
            "=================================================================\n",
            "Total params: 781,312\n",
            "Trainable params: 781,312\n",
            "Non-trainable params: 0\n",
            "_________________________________________________________________\n",
            "None\n",
            "__________________________________________________________________________________________________\n",
            "Layer (type)                    Output Shape         Param #     Connected to                     \n",
            "==================================================================================================\n",
            "input_11 (InputLayer)           (None, None)         0                                            \n",
            "__________________________________________________________________________________________________\n",
            "embedding_5 (Embedding)         (None, None, 256)    256000      input_11[0][0]                   \n",
            "__________________________________________________________________________________________________\n",
            "input_9 (InputLayer)            (None, 256)          0                                            \n",
            "__________________________________________________________________________________________________\n",
            "input_10 (InputLayer)           (None, 256)          0                                            \n",
            "__________________________________________________________________________________________________\n",
            "lstm_2 (LSTM)                   [(None, None, 256),  525312      embedding_5[0][0]                \n",
            "                                                                 input_9[0][0]                    \n",
            "                                                                 input_10[0][0]                   \n",
            "__________________________________________________________________________________________________\n",
            "dense_1 (Dense)                 (None, None, 1000)   257000      lstm_2[3][0]                     \n",
            "==================================================================================================\n",
            "Total params: 1,038,312\n",
            "Trainable params: 1,038,312\n",
            "Non-trainable params: 0\n",
            "__________________________________________________________________________________________________\n",
            "None\n"
          ],
          "name": "stdout"
        }
      ]
    },
    {
      "metadata": {
        "id": "Mb46tLwnbt_w",
        "colab_type": "code",
        "colab": {
          "autoexec": {
            "startup": false,
            "wait_interval": 0
          },
          "base_uri": "https://localhost:8080/",
          "height": 34
        },
        "outputId": "bc2d1487-b9ab-43e4-f06a-18ace9b7d4ba",
        "executionInfo": {
          "status": "ok",
          "timestamp": 1531909824349,
          "user_tz": -330,
          "elapsed": 909,
          "user": {
            "displayName": "Arth Dharaskar",
            "photoUrl": "https://lh3.googleusercontent.com/a/default-user=s128",
            "userId": "112750200661093479151"
          }
        }
      },
      "cell_type": "code",
      "source": [
        "index2word[1]"
      ],
      "execution_count": 77,
      "outputs": [
        {
          "output_type": "execute_result",
          "data": {
            "text/plain": [
              "'sos'"
            ]
          },
          "metadata": {
            "tags": []
          },
          "execution_count": 77
        }
      ]
    },
    {
      "metadata": {
        "id": "OLKvygYeWoOL",
        "colab_type": "code",
        "colab": {
          "autoexec": {
            "startup": false,
            "wait_interval": 0
          },
          "base_uri": "https://localhost:8080/",
          "height": 136
        },
        "outputId": "ef084159-ea5f-4882-a2c2-29c94048bdd5",
        "executionInfo": {
          "status": "ok",
          "timestamp": 1531909826010,
          "user_tz": -330,
          "elapsed": 646,
          "user": {
            "displayName": "Arth Dharaskar",
            "photoUrl": "https://lh3.googleusercontent.com/a/default-user=s128",
            "userId": "112750200661093479151"
          }
        }
      },
      "cell_type": "code",
      "source": [
        "data_trainto[2]"
      ],
      "execution_count": 78,
      "outputs": [
        {
          "output_type": "execute_result",
          "data": {
            "text/plain": [
              "array([  0,   0,   0,   0,   0,   0,   0,   0,   0,   0,   0,   0,   0,\n",
              "         0,   0,   0,   0,   0,   0,   0,   0,   0,   0,   0,   0,   0,\n",
              "         0,   0,   0,   0,   0,   0,   0,   0,   0,   0,   0,   0,   0,\n",
              "         0,   0,   0,   1, 113,   7,   3, 304,   8,  59,  96,  10,  20,\n",
              "        31,   5,   7,  34, 758,   7,   5, 413, 602,  14, 584,   7,  88,\n",
              "         5, 413,   7,   3,   8,   5,   9,   7,  31,   5, 301,   2],\n",
              "      dtype=int32)"
            ]
          },
          "metadata": {
            "tags": []
          },
          "execution_count": 78
        }
      ]
    },
    {
      "metadata": {
        "id": "F8AhDxOUbHwg",
        "colab_type": "code",
        "colab": {
          "autoexec": {
            "startup": false,
            "wait_interval": 0
          }
        }
      },
      "cell_type": "code",
      "source": [
        "def decode_sequence(input_seq):\n",
        "    # Encode the input as state vectors.\n",
        "    states_value = encoder_model.predict(input_seq)\n",
        "\n",
        "    # Generate empty target sequence of length 1.\n",
        "    target_seq = np.zeros((1,max_seq_train_to))\n",
        "    # Populate the first character of target sequence with the start character.\n",
        "    target_seq[0,-1] = new_tokens['sos']\n",
        "\n",
        "    # Sampling loop for a batch of sequences\n",
        "    # (to simplify, here we assume a batch of size 1).\n",
        "    stop_condition = False\n",
        "    decoded_sentence = ''\n",
        "    while not stop_condition:\n",
        "      output_tokens, h, c = decoder_model.predict([input_seq] + states_value)\n",
        "      # Sample a token\n",
        "      sampled_token_index = sample(output_tokens[0, -1, :] ,0.9)\n",
        "      sampled_char = index2word[sampled_token_index]\n",
        "      decoded_sentence += sampled_char +\" \"\n",
        "\n",
        "      # Exit condition: either hit max length\n",
        "      # or find stop character.\n",
        "      if (sampled_char == 'eos' or\n",
        "         len(decoded_sentence) > max_seq_train_to):\n",
        "          stop_condition = True\n",
        "\n",
        "      # Update the target sequence (of length 1).\n",
        "      target_seq = np.zeros((1,max_seq_train_to))\n",
        "      target_seq[0, -1] = sampled_token_index\n",
        "\n",
        "      # Update states\n",
        "      states_value = [h, c]\n",
        "\n",
        "    return decoded_sentence"
      ],
      "execution_count": 0,
      "outputs": []
    },
    {
      "metadata": {
        "id": "Qvlr_YyaQOP9",
        "colab_type": "code",
        "colab": {
          "autoexec": {
            "startup": false,
            "wait_interval": 0
          }
        }
      },
      "cell_type": "code",
      "source": [
        "def make_inference(sentence):\n",
        "    input_text_seq = tokenizer.texts_to_sequences(sentence)\n",
        "    input_data_padded = pad_sequences(input_text_seq, maxlen=max_seq_train_from)\n",
        "    decoded_sentence = decode_sequence(input_data_padded)\n",
        "    print('Question:', sentence)\n",
        "    print('Reply:', decoded_sentence)"
      ],
      "execution_count": 0,
      "outputs": []
    },
    {
      "metadata": {
        "id": "I13eKsBgrCD4",
        "colab_type": "code",
        "colab": {
          "autoexec": {
            "startup": false,
            "wait_interval": 0
          },
          "base_uri": "https://localhost:8080/",
          "height": 280
        },
        "outputId": "1ea6406d-4da9-4256-a195-cdf7331b7c02",
        "executionInfo": {
          "status": "ok",
          "timestamp": 1531909913344,
          "user_tz": -330,
          "elapsed": 1342,
          "user": {
            "displayName": "Arth Dharaskar",
            "photoUrl": "https://lh3.googleusercontent.com/a/default-user=s128",
            "userId": "112750200661093479151"
          }
        }
      },
      "cell_type": "code",
      "source": [
        "loss = history.history['loss']\n",
        "val_loss = history.history['val_loss']\n",
        "epochs = range(1, len(loss) + 1)\n",
        "plt.figure()\n",
        "plt.plot(epochs, loss, 'bo', label='Training loss')\n",
        "plt.plot(epochs, val_loss, 'b', label='Validation loss')\n",
        "plt.title('Training and validation loss')\n",
        "plt.legend()\n",
        "plt.show()"
      ],
      "execution_count": 89,
      "outputs": [
        {
          "output_type": "display_data",
          "data": {
            "image/png": "[encoded data removed]",
            "text/plain": [
              "<matplotlib.figure.Figure at 0x7f9ae2e0aba8>"
            ]
          },
          "metadata": {
            "tags": []
          }
        }
      ]
    }
  ]
}